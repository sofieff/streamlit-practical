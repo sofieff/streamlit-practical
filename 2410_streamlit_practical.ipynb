{
 "cells": [
  {
   "cell_type": "code",
   "execution_count": null,
   "id": "21de11db-51bf-49d3-a301-be1e6abc9c43",
   "metadata": {},
   "outputs": [],
   "source": [
    "#inspired by cristina melnic\n",
    "# create new repo on github, clone into your local computer, work in the repo folder\n",
    "# create new environment with python. install the following packages: streamlit, scikit-learn, seaborn, matplotlib plotly\n",
    "\n",
    "\n",
    "# Create a new conda environment named venv_streamlit_practical with Python in the terminal\n",
    "#conda create --name venv_streamlit_practical python=3.12 -y (or choose python=3.13) \n",
    "#venv: python -m venv venv_streamlit\n",
    "\n",
    "# Activate the new environment\n",
    "#conda activate venv_streamlit_practical\n",
    "#or .\\venv_streamlit\\Scripts\\activate\n",
    "# Install Streamlit, ML and Visualization packages\n",
    "#for example: conda install -c conda-forge streamlit scikit-learn seaborn matplotlib plotly -y\n",
    "#or: pip install streamlit scikit-learn seaborn matplotlib plotly\n"
   ]
  },
  {
   "cell_type": "code",
   "execution_count": 14,
   "id": "2151b2f3-f834-4622-b911-61a0456008bf",
   "metadata": {},
   "outputs": [
    {
     "name": "stdout",
     "output_type": "stream",
     "text": [
      "^C\n"
     ]
    }
   ],
   "source": [
    "!streamlit hello"
   ]
  },
  {
   "cell_type": "code",
   "execution_count": null,
   "id": "2c6bf3e7-a1a4-4f47-a44f-0d4412c4cd89",
   "metadata": {},
   "outputs": [],
   "source": [
    "# create requirements.txt file and keep track of all package installations you do\n",
    "# create practical.py (I called it streamlit-app) file from now on all code goes into the practical.py file\n",
    "#import streamlit as st\n",
    "#st.write(\"Worldwide Analysis of Quality of Life and Economic Factors\")\n",
    "#!streamlit run practical.py\n",
    "\n",
    "#click always rerun in the streamlit app; split screen to see cursor and browser with streamlit at the same time\n",
    "\n",
    "#resources: ChatGPT and https://docs.streamlit.io/develop/api-reference"
   ]
  },
  {
   "cell_type": "code",
   "execution_count": 4,
   "id": "8619d141-dcb3-4543-98f3-ddc8e53a6f8f",
   "metadata": {},
   "outputs": [],
   "source": [
    "#task 1\n",
    "#write headline as header \"Worldwide Analysis of Quality of Life and Economic Factors\"\n",
    "#write subtitle \"This app enables you to explore the relationships between poverty, \n",
    "#            life expectancy, and GDP across various countries and years. \n",
    "#            Use the panels to select options and interact with the data.\"\n",
    "#use the whole width of the page\n",
    "#create 3 tabs called \"Global Overview\", \"Country Deep Dive\", \"Data Explorer\""
   ]
  },
  {
   "cell_type": "code",
   "execution_count": 17,
   "id": "adf7cb54-baba-4776-848c-3a97018d4868",
   "metadata": {},
   "outputs": [],
   "source": [
    "#task 2 in tab 3\n",
    "#use global_development_data.csv to be found here: https://raw.githubusercontent.com/JohannaViktor/streamlit_practical/refs/heads/main/global_development_data.csv\n",
    "\n",
    "# which is a cleaned merge of those 3 datasets\n",
    "\n",
    "#poverty_url = 'https://raw.githubusercontent.com/owid/poverty-data/main/datasets/pip_dataset.csv'\n",
    "#life_exp_url = \"https://raw.githubusercontent.com/owid/owid-datasets/master/datasets/Healthy%20Life%20Expectancy%20-%20IHME/Healthy%20Life%20Expectancy%20-%20IHME.csv\"\n",
    "#gdp_url = 'https://raw.githubusercontent.com/owid/owid-datasets/master/datasets/Maddison%20Project%20Database%202020%20(Bolt%20and%20van%20Zanden%20(2020))/Maddison%20Project%20Database%202020%20(Bolt%20and%20van%20Zanden%20(2020)).csv'\n",
    "    \n",
    "#show the dataset in the 3rd tab\n",
    "#read in the dataset and show it\n",
    "#include a multiselectbox to select the country names\n",
    "#include a slider to select the year range\n",
    "#make the filtered dataset downloadable"
   ]
  },
  {
   "cell_type": "code",
   "execution_count": null,
   "id": "b9efc100-c6b0-4930-bdf0-b80bf8a631e6",
   "metadata": {},
   "outputs": [],
   "source": [
    "#task 3: deployment: deploy the app on streamlit cloud (see readme: create own github repo with practical.py file and requirements.txt, connect the github to streamlit cloud)"
   ]
  },
  {
   "cell_type": "code",
   "execution_count": 18,
   "id": "2daec1c5-d41a-4099-933e-6e126f6708b3",
   "metadata": {},
   "outputs": [],
   "source": [
    "#task 4 in tab 1\n",
    "#create a slider to select a certain year, filter the dataset accordingly\n",
    "#create 4 key metrics in 4 columns each with a description: \n",
    "#col1: mean of life expectancy; \n",
    "#col2: median of GDP per capita; \n",
    "#col3: mean of headcount_ratio_upper_mid_income_povline; \n",
    "#col4: Number of countries"
   ]
  },
  {
   "cell_type": "code",
   "execution_count": null,
   "id": "89a333c5-68bb-41da-a331-8ceeda07289b",
   "metadata": {},
   "outputs": [],
   "source": [
    "#task 5 in tab 1: \n",
    "#create a scatterplot of the dataframe filtered according to the slider: x=GDP per capita, y = Life Expectancy (IHME) with hover, log, size, color, title, labels\n",
    "#you might store the code in an extra plots.py file"
   ]
  },
  {
   "cell_type": "code",
   "execution_count": null,
   "id": "a169750c-45d6-4f32-821a-cd2ff78a6038",
   "metadata": {},
   "outputs": [],
   "source": [
    "#task 6 in tab 1: create a simple model (conda install scikit-learn -y; Randomforest Regressor): features only 3 columns: ['GDP per capita', 'headcount_ratio_upper_mid_income_povline', 'year']; target: 'Life Expectancy (IHME)'\n",
    "#you might store the code in an extra model.py file\n",
    "#make input fields for inference of the features (according to existing values in the dataset) and use the model to predict the life expectancy for the input values\n",
    "#additional: show the feature importance as a bar plot"
   ]
  },
  {
   "cell_type": "code",
   "execution_count": null,
   "id": "1647991e-0744-43ad-9329-556990a2c12f",
   "metadata": {},
   "outputs": [],
   "source": [
    "#task 7 in tab 1: create a map plot like the demo in hello streamlit with 3D bars. use chatgpt or similar to create lat and lon values for each country (e.g. capital as reference)"
   ]
  },
  {
   "cell_type": "code",
   "execution_count": null,
   "id": "9e77ecc5-0d71-46d9-8bb7-03a06cc63f81",
   "metadata": {},
   "outputs": [],
   "source": [
    "#task 8 in tab 2: create a filter for the dataset for countries\n",
    "#show a scatterplot (as line chart): for life expectancy over the year\n",
    "#additional: create a second line in the chart showing the GDP (extra ax ticks)"
   ]
  },
  {
   "cell_type": "code",
   "execution_count": null,
   "id": "6ef30625-0719-4df3-88fd-69d5d2c57680",
   "metadata": {},
   "outputs": [],
   "source": [
    "#task 9: use cursor to solve the task in one step. https://www.cursor.com/ and create a new folder. Use it:\n",
    "# for example with the following prompt:\n",
    "# create a new virtual environment. use this data:\n",
    "# raw.githubusercontent.com/JohannaViktor/streamlit_practical/refs/heads/main/global_development_data.csv\n",
    "# create a streamlit app, that shows basic visualizations of this dataset:\n",
    "# create a scatterplot of the dataframe filtered according to the slider: x=GDP per capita, y = Life Expectancy (IHME) with hover, log, size, color, title, labels.\n",
    "# create a simple model (conda install scikit-learn -y; Randomforest Regressor): features only 3 columns: ['GDP per capita', 'headcount_ratio_upper_mid_income_povline', 'year']; target: 'Life Expectancy (IHME)'.\n",
    "# make input fields in the streamlit app for inference of the features (according to existing values in the dataset) and use the model to predict the life expectancy for the input values"
   ]
  },
  {
   "cell_type": "markdown",
   "id": "streamlit-cheatsheet",
   "metadata": {},
   "source": [
    "## 💡 Nützliche Streamlit-Befehle & Features\n",
    "\n",
    "- **`st.set_page_config`** – Legt Titel, Layout und Icon der App fest (früher Aufruf im Skript).  \n",
    "- **`st.tabs`** – Erstellt Tabs für übersichtliche Unterteilungen in einer Seite.  \n",
    "- **`st.columns`** – Teilt den Bildschirm in Spalten für parallele Inhalte (z. B. KPIs).  \n",
    "- **`st.metric`** – Zeigt Kennzahlen mit optionaler Veränderungsanzeige an.  \n",
    "- **`st.cache_data`** – Cached Rückgabewerte von Funktionen mit (unveränderlichen) Daten, um Ladezeit zu sparen.  \n",
    "- **`st.cache_resource`** – Cached „schwere“ Objekte wie Modelle oder Datenbankverbindungen.  \n",
    "- **`st.form`** – Gruppiert mehrere Eingaben zu einem Formular, das erst nach Button-Klick verarbeitet wird.  \n",
    "- **`st.form_submit_button`** – Button zum Absenden eines `st.form` und Auslösen der Verarbeitung.  \n",
    "- **`st.status`** – Zeigt einen Statusblock mit Fortschritt, z. B. während Training oder Laden.  \n",
    "- **`st.toast`** – Kleiner Pop-up-Hinweis unten rechts zur kurzen Rückmeldung.  \n",
    "- **`st.data_editor`** – Editierbare Tabellenansicht mit Spaltenkonfiguration und Inline-Änderungen.  \n",
    "- **`st.download_button`** – Bietet Dateien (CSV, Excel, Bilder, etc.) zum Download an.  \n",
    "- **`st.plotly_chart`** / **`st.pydeck_chart`** – Interaktive Visualisierungen mit Plotly oder Karten mit Pydeck einbetten.  \n",
    "- **`st.Page`** – Definiert eine Seite für Multipage-Apps (moderner Ansatz).  \n",
    "- **`st.navigation`** – Erstellt eine Navigation zwischen mehreren `st.Page`-Objekten (Navbar oder Sidebar).  \n",
    "- **`st.page_link`** – Erzeugt Links zu anderen App-Seiten oder externen URLs, z. B. für Custom-Nav.  \n",
    "- **`st.chat_message`** / **`st.chat_input`** – Baut einfache Chat-UIs mit Nachrichten-Layout und Eingabefeld.  \n",
    "- **`st.session_state`** – Speichert Zustände (Variablen), die zwischen Interaktionen erhalten bleiben.  \n",
    "- **`st.connection`** – Stellt eine Verbindung zu einer Datenbank oder externen Datenquelle her.  \n",
    "- **`st.secrets`** – Verwaltet vertrauliche Informationen (z. B. API-Keys) sicher in der App.  \n",
    "- **`st.logo`** – Fügt ein Logo in die Navigation ein (nur mit `st.navigation`).  \n"
   ]
  }
 ],
 "metadata": {
  "kernelspec": {
   "display_name": "Python 3 (ipykernel)",
   "language": "python",
   "name": "python3"
  },
  "language_info": {
   "codemirror_mode": {
    "name": "ipython",
    "version": 3
   },
   "file_extension": ".py",
   "mimetype": "text/x-python",
   "name": "python",
   "nbconvert_exporter": "python",
   "pygments_lexer": "ipython3",
   "version": "3.11.10"
  }
 },
 "nbformat": 4,
 "nbformat_minor": 5
}
